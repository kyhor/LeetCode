{
 "cells": [
  {
   "cell_type": "code",
   "execution_count": 1,
   "metadata": {
    "collapsed": true
   },
   "outputs": [],
   "source": [
    "def reachNumber(self,target):\n",
    "        \n",
    "        if target == 0:\n",
    "            return 0\n",
    "        else:\n",
    "            abt = abs(target)\n",
    "            start = int(abt**0.5)\n",
    "            factor = start*(start+1)/2\n",
    "            if abt%2 == 0:\n",
    "                while factor<abt or factor%2 != 0 :\n",
    "                    start+=1 \n",
    "                    factor = start*(start+1)/2\n",
    "            else:\n",
    "                while factor<abt or factor%2 == 0 :\n",
    "                    start+=1 \n",
    "                    factor = start*(start+1)/2\n",
    "            \n",
    "            return start"
   ]
  },
  {
   "cell_type": "code",
   "execution_count": null,
   "metadata": {
    "collapsed": true
   },
   "outputs": [],
   "source": []
  }
 ],
 "metadata": {
  "kernelspec": {
   "display_name": "Python 2",
   "language": "python",
   "name": "python2"
  },
  "language_info": {
   "codemirror_mode": {
    "name": "ipython",
    "version": 2
   },
   "file_extension": ".py",
   "mimetype": "text/x-python",
   "name": "python",
   "nbconvert_exporter": "python",
   "pygments_lexer": "ipython2",
   "version": "2.7.13"
  }
 },
 "nbformat": 4,
 "nbformat_minor": 2
}
